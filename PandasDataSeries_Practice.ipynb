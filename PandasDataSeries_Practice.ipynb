{
 "cells": [
  {
   "cell_type": "code",
   "execution_count": 19,
   "metadata": {},
   "outputs": [],
   "source": [
    "import pandas as pd\n",
    "import numpy as np"
   ]
  },
  {
   "cell_type": "code",
   "execution_count": 3,
   "metadata": {},
   "outputs": [
    {
     "name": "stdout",
     "output_type": "stream",
     "text": [
      "0    0\n",
      "1    1\n",
      "2    5\n",
      "3    1\n",
      "dtype: int64\n"
     ]
    }
   ],
   "source": [
    "# 1. Write a Python program to create and display a one-dimensional array-like object containing an array of data \n",
    "# using Pandas module. \n",
    "\n",
    "x = pd.Series([0,1,5,1])\n",
    "print(x)"
   ]
  },
  {
   "cell_type": "code",
   "execution_count": 9,
   "metadata": {},
   "outputs": [
    {
     "name": "stdout",
     "output_type": "stream",
     "text": [
      "0    0\n",
      "1    1\n",
      "2    5\n",
      "3    1\n",
      "dtype: int64\n",
      "[0, 1, 5, 1]\n",
      "<class 'list'>\n"
     ]
    }
   ],
   "source": [
    "# 2. Write a Python program to convert a Panda module Series to Python list and it's type. \n",
    "\n",
    "x = pd.Series([0,1,5,1])\n",
    "print(x)\n",
    "\n",
    "y = x.tolist()\n",
    "print(y)\n",
    "\n",
    "print(type(y))"
   ]
  },
  {
   "cell_type": "code",
   "execution_count": 12,
   "metadata": {},
   "outputs": [
    {
     "name": "stdout",
     "output_type": "stream",
     "text": [
      "0    0\n",
      "1    1\n",
      "2    5\n",
      "3    1\n",
      "dtype: int64\n",
      "0    1\n",
      "1    4\n",
      "2    8\n",
      "3    2\n",
      "dtype: int64\n",
      "0     1\n",
      "1     5\n",
      "2    13\n",
      "3     3\n",
      "dtype: int64\n",
      "0   -1\n",
      "1   -3\n",
      "2   -3\n",
      "3   -1\n",
      "dtype: int64\n",
      "0     0\n",
      "1     4\n",
      "2    40\n",
      "3     2\n",
      "dtype: int64\n",
      "0    0.000\n",
      "1    0.250\n",
      "2    0.625\n",
      "3    0.500\n",
      "dtype: float64\n"
     ]
    }
   ],
   "source": [
    "# 3. Write a Python program to add, subtract, multiple and divide two Pandas Series. \n",
    "\n",
    "x = pd.Series([0,1,5,1])\n",
    "print(x)\n",
    "\n",
    "y = pd.Series([1,4,8,2])\n",
    "print(y)\n",
    "\n",
    "add = x + y\n",
    "print(add)\n",
    "\n",
    "subtract = x - y\n",
    "print(subtract)\n",
    "\n",
    "multiply = x * y\n",
    "print(multiply)\n",
    "\n",
    "divide = x / y\n",
    "print(divide)"
   ]
  },
  {
   "cell_type": "code",
   "execution_count": 15,
   "metadata": {},
   "outputs": [
    {
     "name": "stdout",
     "output_type": "stream",
     "text": [
      "0    0\n",
      "1    4\n",
      "2    5\n",
      "3    1\n",
      "dtype: int64\n",
      "0    1\n",
      "1    4\n",
      "2    8\n",
      "3    2\n",
      "dtype: int64\n",
      "0    False\n",
      "1     True\n",
      "2    False\n",
      "3    False\n",
      "dtype: bool\n",
      "0    False\n",
      "1    False\n",
      "2    False\n",
      "3    False\n",
      "dtype: bool\n",
      "0     True\n",
      "1    False\n",
      "2     True\n",
      "3     True\n",
      "dtype: bool\n",
      "0    False\n",
      "1     True\n",
      "2    False\n",
      "3    False\n",
      "dtype: bool\n",
      "0    True\n",
      "1    True\n",
      "2    True\n",
      "3    True\n",
      "dtype: bool\n"
     ]
    }
   ],
   "source": [
    "# 4. Write a Pandas program to compare the elements of the two Pandas Series.\n",
    "\n",
    "x = pd.Series([0,4,5,1])\n",
    "print(x)\n",
    "\n",
    "y = pd.Series([1,4,8,2])\n",
    "print(y)\n",
    "\n",
    "print(x == y)\n",
    "print(x > y)\n",
    "print(x < y)\n",
    "print(x >= y)\n",
    "print(x <= y)"
   ]
  },
  {
   "cell_type": "code",
   "execution_count": 17,
   "metadata": {},
   "outputs": [
    {
     "name": "stdout",
     "output_type": "stream",
     "text": [
      "{'Fruit': 'Apple', 'Vegetable': 'Peas', 'Drink': 'Coffee'}\n",
      "Fruit         Apple\n",
      "Vegetable      Peas\n",
      "Drink        Coffee\n",
      "dtype: object\n"
     ]
    }
   ],
   "source": [
    "# 5. Write a Python program to convert a dictionary to a Pandas series.\n",
    "\n",
    "x = {'Fruit':'Apple', 'Vegetable':'Peas', 'Drink':'Coffee'}\n",
    "print(x)\n",
    "\n",
    "print(pd.Series(x))"
   ]
  },
  {
   "cell_type": "code",
   "execution_count": 21,
   "metadata": {},
   "outputs": [
    {
     "name": "stdout",
     "output_type": "stream",
     "text": [
      "[6 0 9 1 2]\n",
      "0    6\n",
      "1    0\n",
      "2    9\n",
      "3    1\n",
      "4    2\n",
      "dtype: int64\n"
     ]
    }
   ],
   "source": [
    "# 6. Write a Python program to convert a NumPy array to a Pandas series. \n",
    "\n",
    "x = np.array([6,0,9,1,2])\n",
    "print(x)\n",
    "\n",
    "print(pd.Series(x))"
   ]
  },
  {
   "cell_type": "code",
   "execution_count": 29,
   "metadata": {},
   "outputs": [
    {
     "name": "stdout",
     "output_type": "stream",
     "text": [
      "0         0\n",
      "1      4.05\n",
      "2     591.4\n",
      "3    Python\n",
      "dtype: object\n",
      "0      0.00\n",
      "1      4.05\n",
      "2    591.40\n",
      "3       NaN\n",
      "dtype: float64\n"
     ]
    }
   ],
   "source": [
    "# 7. Write a Python program to change the data type of a given column or a Series.\n",
    "\n",
    "x = pd.Series(['0','4.05','591.4','Python'])\n",
    "print(x)\n",
    "\n",
    "print(pd.to_numeric(x, errors ='coerce'))"
   ]
  },
  {
   "cell_type": "code",
   "execution_count": 33,
   "metadata": {},
   "outputs": [
    {
     "name": "stdout",
     "output_type": "stream",
     "text": [
      "    Col1 Col2 Col3\n",
      "0      0  0.2   10\n",
      "1   4.05  4.0   45\n",
      "2  591.4  592  594\n",
      "3     23   26   31\n",
      "0        0\n",
      "1     4.05\n",
      "2    591.4\n",
      "3       23\n",
      "Name: Col1, dtype: object\n"
     ]
    }
   ],
   "source": [
    "# 8. Write a Python Pandas program to convert the first column of a DataFrame as a Series.\n",
    "\n",
    "x = pd.DataFrame({'Col1':['0','4.05','591.4','23'], 'Col2':['0.2','4.0','592','26'], 'Col3':['10','45','594','31']})\n",
    "print(x)\n",
    "                  \n",
    "print(x.iloc[:,0])                "
   ]
  },
  {
   "cell_type": "code",
   "execution_count": 34,
   "metadata": {},
   "outputs": [
    {
     "name": "stdout",
     "output_type": "stream",
     "text": [
      "0         0\n",
      "1      4.05\n",
      "2     591.4\n",
      "3    Python\n",
      "dtype: object\n",
      "['0' '4.05' '591.4' 'Python']\n"
     ]
    }
   ],
   "source": [
    "# 9. Write a Pandas program to convert a given Series to an array. \n",
    "\n",
    "x = pd.Series(['0','4.05','591.4','Python'])\n",
    "print(x)\n",
    "\n",
    "print(np.array(x))"
   ]
  },
  {
   "cell_type": "code",
   "execution_count": 42,
   "metadata": {},
   "outputs": [
    {
     "name": "stdout",
     "output_type": "stream",
     "text": [
      "0    [1, 4, 5]\n",
      "1    [5, 6, 1]\n",
      "2    [8, 0, 9]\n",
      "dtype: object\n",
      "   0  1  2\n",
      "0  1  4  5\n",
      "1  5  6  1\n",
      "2  8  0  9\n",
      "0  0    1\n",
      "   1    4\n",
      "   2    5\n",
      "1  0    5\n",
      "   1    6\n",
      "   2    1\n",
      "2  0    8\n",
      "   1    0\n",
      "   2    9\n",
      "dtype: int64\n",
      "0    1\n",
      "1    4\n",
      "2    5\n",
      "3    5\n",
      "4    6\n",
      "5    1\n",
      "6    8\n",
      "7    0\n",
      "8    9\n",
      "dtype: int64\n"
     ]
    }
   ],
   "source": [
    "# 10. Write a Pandas program to convert Series of lists to one Series. \n",
    "\n",
    "x = pd.Series([[1,4,5],[5,6,1],[8,0,9]])\n",
    "print(x)\n",
    "\n",
    "print(x.apply(pd.Series))\n",
    "print(x.apply(pd.Series).stack())\n",
    "print(x.apply(pd.Series).stack().reset_index(drop = True))"
   ]
  },
  {
   "cell_type": "code",
   "execution_count": 46,
   "metadata": {},
   "outputs": [
    {
     "name": "stdout",
     "output_type": "stream",
     "text": [
      "0    1\n",
      "1    4\n",
      "2    5\n",
      "3    8\n",
      "4    0\n",
      "5    9\n",
      "dtype: int64\n",
      "4    0\n",
      "0    1\n",
      "1    4\n",
      "2    5\n",
      "3    8\n",
      "5    9\n",
      "dtype: int64\n"
     ]
    }
   ],
   "source": [
    "# 11. Write a Pandas program to sort a given Series. \n",
    "\n",
    "x = pd.Series([1,4,5,8,0,9])\n",
    "print(x)\n",
    "\n",
    "print(x.sort_values())"
   ]
  },
  {
   "cell_type": "code",
   "execution_count": 49,
   "metadata": {},
   "outputs": [
    {
     "name": "stdout",
     "output_type": "stream",
     "text": [
      "0    1\n",
      "1    4\n",
      "2    5\n",
      "3    8\n",
      "4    0\n",
      "5    9\n",
      "dtype: int64\n",
      "0    1\n",
      "1    4\n",
      "2    5\n",
      "3    8\n",
      "4    0\n",
      "5    9\n",
      "0    7\n",
      "1    6\n",
      "2    5\n",
      "dtype: int64\n"
     ]
    }
   ],
   "source": [
    "# 12. Write a Pandas program to add some data to an existing Series. \n",
    "\n",
    "x = pd.Series([1,4,5,8,0,9])\n",
    "print(x)\n",
    "\n",
    "print(x.append(pd.Series([7,6,5])))"
   ]
  },
  {
   "cell_type": "code",
   "execution_count": 51,
   "metadata": {},
   "outputs": [
    {
     "name": "stdout",
     "output_type": "stream",
     "text": [
      "0    1\n",
      "1    4\n",
      "2    5\n",
      "3    8\n",
      "4    0\n",
      "5    9\n",
      "dtype: int64\n",
      "0    1\n",
      "1    4\n",
      "2    5\n",
      "4    0\n",
      "dtype: int64\n"
     ]
    }
   ],
   "source": [
    "# 13. Write a Pandas program to create a subset of a given series based on value and condition. \n",
    "\n",
    "x = pd.Series([1,4,5,8,0,9])\n",
    "print(x)\n",
    "\n",
    "x_subset = x[x < 8]\n",
    "print(x_subset)"
   ]
  },
  {
   "cell_type": "code",
   "execution_count": 53,
   "metadata": {},
   "outputs": [
    {
     "name": "stdout",
     "output_type": "stream",
     "text": [
      "A    4\n",
      "B    5\n",
      "C    6\n",
      "D    0\n",
      "E    1\n",
      "F    2\n",
      "G    7\n",
      "dtype: int64\n",
      "F    2\n",
      "B    5\n",
      "A    4\n",
      "D    0\n",
      "E    1\n",
      "G    7\n",
      "C    6\n",
      "dtype: int64\n"
     ]
    }
   ],
   "source": [
    "# 14. Write a Pandas program to change the order of index of a given series. \n",
    "\n",
    "x = pd.Series(data=[4,5,6,0,1,2,7], index=['A','B','C','D','E','F','G'])\n",
    "print(x)\n",
    "\n",
    "print(x.reindex(index=['F','B','A','D','E','G','C']))"
   ]
  },
  {
   "cell_type": "code",
   "execution_count": 55,
   "metadata": {},
   "outputs": [
    {
     "name": "stdout",
     "output_type": "stream",
     "text": [
      "0    1\n",
      "1    4\n",
      "2    5\n",
      "3    8\n",
      "4    0\n",
      "5    9\n",
      "dtype: int64\n",
      "4.5\n",
      "3.6193922141707713\n"
     ]
    }
   ],
   "source": [
    "# 15. Write a Pandas program to create the mean and standard deviation of the data of a given Series. \n",
    "\n",
    "x = pd.Series([1,4,5,8,0,9])\n",
    "print(x)\n",
    "\n",
    "print(x.mean())\n",
    "print(x.std())"
   ]
  },
  {
   "cell_type": "code",
   "execution_count": 64,
   "metadata": {},
   "outputs": [
    {
     "name": "stdout",
     "output_type": "stream",
     "text": [
      "0    1\n",
      "1    4\n",
      "2    5\n",
      "3    8\n",
      "4    0\n",
      "5    9\n",
      "dtype: int64\n",
      "0    2\n",
      "1    4\n",
      "2    3\n",
      "3    8\n",
      "4    0\n",
      "5    7\n",
      "dtype: int64\n",
      "0    1\n",
      "2    5\n",
      "5    9\n",
      "dtype: int64\n"
     ]
    }
   ],
   "source": [
    "# 16. Write a Pandas program to get the items of a given series not present in another given series. \n",
    "\n",
    "x = pd.Series([1,4,5,8,0,9])\n",
    "print(x)\n",
    "\n",
    "y = pd.Series([2,4,3,8,0,7])\n",
    "print(y)\n",
    "\n",
    "print(x[~x.isin(y)])"
   ]
  },
  {
   "cell_type": "code",
   "execution_count": 68,
   "metadata": {},
   "outputs": [
    {
     "name": "stdout",
     "output_type": "stream",
     "text": [
      "0    1\n",
      "1    4\n",
      "2    5\n",
      "3    8\n",
      "4    0\n",
      "5    9\n",
      "dtype: int64\n",
      "0    2\n",
      "1    4\n",
      "2    3\n",
      "3    8\n",
      "4    0\n",
      "5    7\n",
      "dtype: int64\n",
      "0    0\n",
      "1    1\n",
      "2    2\n",
      "3    3\n",
      "4    4\n",
      "5    5\n",
      "6    7\n",
      "7    8\n",
      "8    9\n",
      "dtype: int64\n",
      "0    0\n",
      "1    4\n",
      "2    8\n",
      "dtype: int64\n"
     ]
    }
   ],
   "source": [
    "# 17. Write a Pandas program to get the items which are not common of two given series. \n",
    "\n",
    "x = pd.Series([1,4,5,8,0,9])\n",
    "print(x)\n",
    "\n",
    "y = pd.Series([2,4,3,8,0,7])\n",
    "print(y)\n",
    "\n",
    "union = pd.Series(np.union1d(x,y))\n",
    "print(union)\n",
    "intersect = pd.Series(np.intersect1d(x,y))\n",
    "print(intersect)"
   ]
  },
  {
   "cell_type": "code",
   "execution_count": 72,
   "metadata": {},
   "outputs": [
    {
     "name": "stdout",
     "output_type": "stream",
     "text": [
      "0    1\n",
      "1    4\n",
      "2    5\n",
      "3    8\n",
      "4    0\n",
      "5    9\n",
      "dtype: int64\n",
      "[0.   1.75 4.5  7.25 9.  ]\n"
     ]
    }
   ],
   "source": [
    "# 18. Write a Pandas program to compute the minimum, 25th percentile, median, 75th, and maximum of a given series. \n",
    "\n",
    "x = pd.Series([1,4,5,8,0,9])\n",
    "print(x)\n",
    "\n",
    "print(np.percentile(x, [0,25,50,75,100]))"
   ]
  },
  {
   "cell_type": "code",
   "execution_count": 75,
   "metadata": {},
   "outputs": [
    {
     "name": "stdout",
     "output_type": "stream",
     "text": [
      "0     1\n",
      "1     4\n",
      "2     5\n",
      "3     8\n",
      "4     0\n",
      "5     9\n",
      "6     4\n",
      "7     5\n",
      "8     0\n",
      "9     7\n",
      "10    9\n",
      "11    1\n",
      "12    1\n",
      "13    1\n",
      "dtype: int64\n",
      "1    4\n",
      "9    2\n",
      "5    2\n",
      "4    2\n",
      "0    2\n",
      "8    1\n",
      "7    1\n",
      "dtype: int64\n"
     ]
    }
   ],
   "source": [
    "# 19. Write a Pandas program to calculate the frequency counts of each unique value of a given series.\n",
    "\n",
    "x = pd.Series([1,4,5,8,0,9,4,5,0,7,9,1,1,1])\n",
    "print(x)\n",
    "\n",
    "print(x.value_counts())"
   ]
  },
  {
   "cell_type": "code",
   "execution_count": 93,
   "metadata": {},
   "outputs": [
    {
     "name": "stdout",
     "output_type": "stream",
     "text": [
      "0     1\n",
      "1     4\n",
      "2     5\n",
      "3     8\n",
      "4     0\n",
      "5     9\n",
      "6     4\n",
      "7     5\n",
      "8     0\n",
      "9     7\n",
      "10    9\n",
      "11    1\n",
      "12    1\n",
      "13    1\n",
      "dtype: int64\n",
      "1    4\n",
      "9    2\n",
      "5    2\n",
      "4    2\n",
      "0    2\n",
      "8    1\n",
      "7    1\n",
      "dtype: int64\n"
     ]
    }
   ],
   "source": [
    "# 20. Write a Pandas program to display most frequent value in a given series and replace everything else as 'Other' \n",
    "# in the series. \n",
    "\n",
    "x = pd.Series([1,4,5,8,0,9,4,5,0,7,9,1,1,1])\n",
    "print(x)\n",
    "\n",
    "y = x.value_counts()\n",
    "print(y)"
   ]
  },
  {
   "cell_type": "code",
   "execution_count": null,
   "metadata": {},
   "outputs": [],
   "source": []
  },
  {
   "cell_type": "code",
   "execution_count": null,
   "metadata": {},
   "outputs": [],
   "source": []
  }
 ],
 "metadata": {
  "kernelspec": {
   "display_name": "Python 3",
   "language": "python",
   "name": "python3"
  },
  "language_info": {
   "codemirror_mode": {
    "name": "ipython",
    "version": 3
   },
   "file_extension": ".py",
   "mimetype": "text/x-python",
   "name": "python",
   "nbconvert_exporter": "python",
   "pygments_lexer": "ipython3",
   "version": "3.7.4"
  }
 },
 "nbformat": 4,
 "nbformat_minor": 2
}
